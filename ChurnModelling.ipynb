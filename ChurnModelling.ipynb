{
  "nbformat": 4,
  "nbformat_minor": 0,
  "metadata": {
    "colab": {
      "provenance": [],
      "gpuType": "T4"
    },
    "kernelspec": {
      "name": "python3",
      "display_name": "Python 3"
    },
    "language_info": {
      "name": "python"
    },
    "accelerator": "GPU"
  },
  "cells": [
    {
      "cell_type": "code",
      "execution_count": null,
      "metadata": {
        "colab": {
          "base_uri": "https://localhost:8080/"
        },
        "id": "KMQO-lpC6lgI",
        "outputId": "90a62770-3432-4db8-f12d-f96fe8a445ad"
      },
      "outputs": [
        {
          "output_type": "stream",
          "name": "stdout",
          "text": [
            "Requirement already satisfied: tensorflow in /usr/local/lib/python3.10/dist-packages (2.12.0)\n",
            "Requirement already satisfied: absl-py>=1.0.0 in /usr/local/lib/python3.10/dist-packages (from tensorflow) (1.4.0)\n",
            "Requirement already satisfied: astunparse>=1.6.0 in /usr/local/lib/python3.10/dist-packages (from tensorflow) (1.6.3)\n",
            "Requirement already satisfied: flatbuffers>=2.0 in /usr/local/lib/python3.10/dist-packages (from tensorflow) (23.5.26)\n",
            "Requirement already satisfied: gast<=0.4.0,>=0.2.1 in /usr/local/lib/python3.10/dist-packages (from tensorflow) (0.4.0)\n",
            "Requirement already satisfied: google-pasta>=0.1.1 in /usr/local/lib/python3.10/dist-packages (from tensorflow) (0.2.0)\n",
            "Requirement already satisfied: grpcio<2.0,>=1.24.3 in /usr/local/lib/python3.10/dist-packages (from tensorflow) (1.56.2)\n",
            "Requirement already satisfied: h5py>=2.9.0 in /usr/local/lib/python3.10/dist-packages (from tensorflow) (3.8.0)\n",
            "Requirement already satisfied: jax>=0.3.15 in /usr/local/lib/python3.10/dist-packages (from tensorflow) (0.4.14)\n",
            "Requirement already satisfied: keras<2.13,>=2.12.0 in /usr/local/lib/python3.10/dist-packages (from tensorflow) (2.12.0)\n",
            "Requirement already satisfied: libclang>=13.0.0 in /usr/local/lib/python3.10/dist-packages (from tensorflow) (16.0.6)\n",
            "Requirement already satisfied: numpy<1.24,>=1.22 in /usr/local/lib/python3.10/dist-packages (from tensorflow) (1.23.5)\n",
            "Requirement already satisfied: opt-einsum>=2.3.2 in /usr/local/lib/python3.10/dist-packages (from tensorflow) (3.3.0)\n",
            "Requirement already satisfied: packaging in /usr/local/lib/python3.10/dist-packages (from tensorflow) (23.1)\n",
            "Requirement already satisfied: protobuf!=4.21.0,!=4.21.1,!=4.21.2,!=4.21.3,!=4.21.4,!=4.21.5,<5.0.0dev,>=3.20.3 in /usr/local/lib/python3.10/dist-packages (from tensorflow) (3.20.3)\n",
            "Requirement already satisfied: setuptools in /usr/local/lib/python3.10/dist-packages (from tensorflow) (67.7.2)\n",
            "Requirement already satisfied: six>=1.12.0 in /usr/local/lib/python3.10/dist-packages (from tensorflow) (1.16.0)\n",
            "Requirement already satisfied: tensorboard<2.13,>=2.12 in /usr/local/lib/python3.10/dist-packages (from tensorflow) (2.12.3)\n",
            "Requirement already satisfied: tensorflow-estimator<2.13,>=2.12.0 in /usr/local/lib/python3.10/dist-packages (from tensorflow) (2.12.0)\n",
            "Requirement already satisfied: termcolor>=1.1.0 in /usr/local/lib/python3.10/dist-packages (from tensorflow) (2.3.0)\n",
            "Requirement already satisfied: typing-extensions>=3.6.6 in /usr/local/lib/python3.10/dist-packages (from tensorflow) (4.7.1)\n",
            "Requirement already satisfied: wrapt<1.15,>=1.11.0 in /usr/local/lib/python3.10/dist-packages (from tensorflow) (1.14.1)\n",
            "Requirement already satisfied: tensorflow-io-gcs-filesystem>=0.23.1 in /usr/local/lib/python3.10/dist-packages (from tensorflow) (0.33.0)\n",
            "Requirement already satisfied: wheel<1.0,>=0.23.0 in /usr/local/lib/python3.10/dist-packages (from astunparse>=1.6.0->tensorflow) (0.41.0)\n",
            "Requirement already satisfied: ml-dtypes>=0.2.0 in /usr/local/lib/python3.10/dist-packages (from jax>=0.3.15->tensorflow) (0.2.0)\n",
            "Requirement already satisfied: scipy>=1.7 in /usr/local/lib/python3.10/dist-packages (from jax>=0.3.15->tensorflow) (1.10.1)\n",
            "Requirement already satisfied: google-auth<3,>=1.6.3 in /usr/local/lib/python3.10/dist-packages (from tensorboard<2.13,>=2.12->tensorflow) (2.17.3)\n",
            "Requirement already satisfied: google-auth-oauthlib<1.1,>=0.5 in /usr/local/lib/python3.10/dist-packages (from tensorboard<2.13,>=2.12->tensorflow) (1.0.0)\n",
            "Requirement already satisfied: markdown>=2.6.8 in /usr/local/lib/python3.10/dist-packages (from tensorboard<2.13,>=2.12->tensorflow) (3.4.4)\n",
            "Requirement already satisfied: requests<3,>=2.21.0 in /usr/local/lib/python3.10/dist-packages (from tensorboard<2.13,>=2.12->tensorflow) (2.31.0)\n",
            "Requirement already satisfied: tensorboard-data-server<0.8.0,>=0.7.0 in /usr/local/lib/python3.10/dist-packages (from tensorboard<2.13,>=2.12->tensorflow) (0.7.1)\n",
            "Requirement already satisfied: werkzeug>=1.0.1 in /usr/local/lib/python3.10/dist-packages (from tensorboard<2.13,>=2.12->tensorflow) (2.3.6)\n",
            "Requirement already satisfied: cachetools<6.0,>=2.0.0 in /usr/local/lib/python3.10/dist-packages (from google-auth<3,>=1.6.3->tensorboard<2.13,>=2.12->tensorflow) (5.3.1)\n",
            "Requirement already satisfied: pyasn1-modules>=0.2.1 in /usr/local/lib/python3.10/dist-packages (from google-auth<3,>=1.6.3->tensorboard<2.13,>=2.12->tensorflow) (0.3.0)\n",
            "Requirement already satisfied: rsa<5,>=3.1.4 in /usr/local/lib/python3.10/dist-packages (from google-auth<3,>=1.6.3->tensorboard<2.13,>=2.12->tensorflow) (4.9)\n",
            "Requirement already satisfied: requests-oauthlib>=0.7.0 in /usr/local/lib/python3.10/dist-packages (from google-auth-oauthlib<1.1,>=0.5->tensorboard<2.13,>=2.12->tensorflow) (1.3.1)\n",
            "Requirement already satisfied: charset-normalizer<4,>=2 in /usr/local/lib/python3.10/dist-packages (from requests<3,>=2.21.0->tensorboard<2.13,>=2.12->tensorflow) (3.2.0)\n",
            "Requirement already satisfied: idna<4,>=2.5 in /usr/local/lib/python3.10/dist-packages (from requests<3,>=2.21.0->tensorboard<2.13,>=2.12->tensorflow) (3.4)\n",
            "Requirement already satisfied: urllib3<3,>=1.21.1 in /usr/local/lib/python3.10/dist-packages (from requests<3,>=2.21.0->tensorboard<2.13,>=2.12->tensorflow) (1.26.16)\n",
            "Requirement already satisfied: certifi>=2017.4.17 in /usr/local/lib/python3.10/dist-packages (from requests<3,>=2.21.0->tensorboard<2.13,>=2.12->tensorflow) (2023.7.22)\n",
            "Requirement already satisfied: MarkupSafe>=2.1.1 in /usr/local/lib/python3.10/dist-packages (from werkzeug>=1.0.1->tensorboard<2.13,>=2.12->tensorflow) (2.1.3)\n",
            "Requirement already satisfied: pyasn1<0.6.0,>=0.4.6 in /usr/local/lib/python3.10/dist-packages (from pyasn1-modules>=0.2.1->google-auth<3,>=1.6.3->tensorboard<2.13,>=2.12->tensorflow) (0.5.0)\n",
            "Requirement already satisfied: oauthlib>=3.0.0 in /usr/local/lib/python3.10/dist-packages (from requests-oauthlib>=0.7.0->google-auth-oauthlib<1.1,>=0.5->tensorboard<2.13,>=2.12->tensorflow) (3.2.2)\n"
          ]
        }
      ],
      "source": [
        "!pip install tensorflow\n"
      ]
    },
    {
      "cell_type": "code",
      "source": [
        "import tensorflow as tf"
      ],
      "metadata": {
        "id": "D2IliGyI62B0"
      },
      "execution_count": null,
      "outputs": []
    },
    {
      "cell_type": "code",
      "source": [
        "print(tf.__version__)"
      ],
      "metadata": {
        "colab": {
          "base_uri": "https://localhost:8080/"
        },
        "id": "4_fyxUHb7GuH",
        "outputId": "5203ade3-701f-4e93-9b5d-1d3c2e7b98b1"
      },
      "execution_count": null,
      "outputs": [
        {
          "output_type": "stream",
          "name": "stdout",
          "text": [
            "2.12.0\n"
          ]
        }
      ]
    },
    {
      "cell_type": "code",
      "source": [
        " # Importing the libraries\n",
        "import numpy as np\n",
        "import matplotlib.pyplot as plt\n",
        "import pandas as pd"
      ],
      "metadata": {
        "id": "LLvV2K-o7KAp"
      },
      "execution_count": null,
      "outputs": []
    },
    {
      "cell_type": "code",
      "source": [
        "# Importing the dataset\n",
        "dataset = pd.read_csv('Churn_Modelling.csv')\n",
        "X = dataset.iloc[:, 3:13] #iloc means index number\n",
        "y = dataset.iloc[:, 13] #rows,columns"
      ],
      "metadata": {
        "id": "gHRHobkK7Sxn"
      },
      "execution_count": null,
      "outputs": []
    },
    {
      "cell_type": "code",
      "source": [
        "#Create dummy variables\n",
        "geography=pd.get_dummies(X[\"Geography\"],drop_first=True)  #OHE is carried out and drop first basically drops the first comlumn\n",
        "#Ex: here germany,france and  spain are there.Germany will be expressed as (1,0),spain will be expressed as (0,1) and france will be exp as (0,0) so one less column.\n",
        "gender=pd.get_dummies(X['Gender'],drop_first=True)"
      ],
      "metadata": {
        "id": "T2yS0VL67Ufn"
      },
      "execution_count": null,
      "outputs": []
    },
    {
      "cell_type": "code",
      "source": [
        "## Concatenate the Data Frames\n",
        "\n",
        "X=pd.concat([X,geography,gender],axis=1)  # this combines the OHE(geo,gen) with the indipendent feat\n",
        "#axis=1  means the concatinating column wise\n",
        "## Drop Unnecessary columns\n",
        "X=X.drop(['Geography','Gender'],axis=1) # since we OHE both these columns we can remove both of them\n",
        "\n",
        "# Splitting the dataset into the Training set and Test set\n",
        "from sklearn.model_selection import train_test_split\n",
        "X_train, X_test, y_train, y_test = train_test_split(X, y, test_size = 0.2, random_state = 0)\n"
      ],
      "metadata": {
        "id": "Co2rxaFR7Wgo"
      },
      "execution_count": null,
      "outputs": []
    },
    {
      "cell_type": "code",
      "source": [
        "# Feature Scaling\n",
        "from sklearn.preprocessing import StandardScaler\n",
        "sc = StandardScaler()\n",
        "X_train = sc.fit_transform(X_train)\n",
        "X_test = sc.transform(X_test)\n",
        "\n",
        "'''\n",
        "Q.For which all algos is feature scaling req?\n",
        "A.Req for ANN,LR,KNN,Kmeans .In short whenever  it is distance based and has Grad desc.\n",
        "'''"
      ],
      "metadata": {
        "id": "GNZrZXy37ZLs",
        "colab": {
          "base_uri": "https://localhost:8080/",
          "height": 35
        },
        "outputId": "a2460c0b-7c61-45db-d814-bd9e33ee69d3"
      },
      "execution_count": null,
      "outputs": [
        {
          "output_type": "execute_result",
          "data": {
            "text/plain": [
              "'\\nQ.For which all algos is feature scaling req?\\nA.Req for ANN,LR,KNN,Kmeans .In short whenever  it is distance based and has Grad desc.\\n'"
            ],
            "application/vnd.google.colaboratory.intrinsic+json": {
              "type": "string"
            }
          },
          "metadata": {},
          "execution_count": 14
        }
      ]
    },
    {
      "cell_type": "code",
      "source": [
        "# Part 2 - Now let's make the ANN!"
      ],
      "metadata": {
        "id": "uwN3bgie7bvT"
      },
      "execution_count": null,
      "outputs": []
    },
    {
      "cell_type": "code",
      "source": [
        "from tensorflow.keras.models import Sequential\n",
        "from tensorflow.keras.layers import Dense\n",
        "from tensorflow.keras.layers import LeakyReLU,PReLU,ELU\n",
        "from tensorflow.keras.layers import Dropout\n",
        "'''\n",
        "Taking the entire NN as a block we use seq so for forward and back prop we use\n",
        "We use dense we create neurons in the hidden layer,output layer etc\n",
        "Leaky relu etc are just the activation funcs\n",
        "Drop out is  used to reduce overftting.We provide a number say 0.3 then in a given layer 30% of the neurons will deactivate.\n",
        "'''\n"
      ],
      "metadata": {
        "id": "rL_a7vWu7dj1"
      },
      "execution_count": null,
      "outputs": []
    },
    {
      "cell_type": "code",
      "source": [
        "# Initialising the ANN\n",
        "classifier = Sequential()"
      ],
      "metadata": {
        "id": "VDJwvrbZ7kj4"
      },
      "execution_count": null,
      "outputs": []
    },
    {
      "cell_type": "code",
      "source": [
        "# Adding the input layer and the first hidden layer\n",
        "classifier.add(Dense(units=11,activation='relu'))\n",
        "#no. of inputs should be equal to no. of nodes in input layer\n",
        "classifier.add(Dropout(0.3))\n"
      ],
      "metadata": {
        "id": "RSZQrU-g7z4N"
      },
      "execution_count": null,
      "outputs": []
    },
    {
      "cell_type": "code",
      "source": [
        "classifier.add(Dense(units=7,activation='relu'))\n",
        "classifier.add(Dropout(0.2))\n"
      ],
      "metadata": {
        "id": "-M21C3SWEMg7"
      },
      "execution_count": null,
      "outputs": []
    },
    {
      "cell_type": "code",
      "source": [
        "#  creating second hidden layer and adding it to i/p layer\n",
        "classifier.add(Dense(units=6,activation='relu'))"
      ],
      "metadata": {
        "id": "byszZMvw8RcQ"
      },
      "execution_count": null,
      "outputs": []
    },
    {
      "cell_type": "code",
      "source": [
        "# Creating the o/p layer and adding to seq\n",
        "classifier.add(Dense(units=1,activation='sigmoid')) #since binary class o/p has to be sigmoid and only 1 o/p layer"
      ],
      "metadata": {
        "id": "Mk2slmAX8XUI"
      },
      "execution_count": null,
      "outputs": []
    },
    {
      "cell_type": "code",
      "source": [
        "classifier.compile(optimizer='adam',loss='binary_crossentropy',metrics=['accuracy'])# by default the  learning rate starts at  0.01"
      ],
      "metadata": {
        "id": "F2udThHo8cFt"
      },
      "execution_count": null,
      "outputs": []
    },
    {
      "cell_type": "code",
      "source": [
        "model_history=classifier.fit(X_train,y_train,validation_split=0.33,batch_size=10,epochs=30)"
      ],
      "metadata": {
        "colab": {
          "base_uri": "https://localhost:8080/"
        },
        "id": "3qairJAs8fIc",
        "outputId": "02b3002f-e4fe-462c-bd0a-7f43355cb8fb"
      },
      "execution_count": null,
      "outputs": [
        {
          "output_type": "stream",
          "name": "stdout",
          "text": [
            "Epoch 1/30\n",
            "536/536 [==============================] - 9s 9ms/step - loss: 0.6011 - accuracy: 0.8494 - val_loss: 0.5503 - val_accuracy: 0.8440\n",
            "Epoch 2/30\n",
            "536/536 [==============================] - 4s 7ms/step - loss: 0.4923 - accuracy: 0.8668 - val_loss: 0.4754 - val_accuracy: 0.8595\n",
            "Epoch 3/30\n",
            "536/536 [==============================] - 4s 7ms/step - loss: 0.4359 - accuracy: 0.8673 - val_loss: 0.4326 - val_accuracy: 0.8535\n",
            "Epoch 4/30\n",
            "536/536 [==============================] - 4s 8ms/step - loss: 0.4027 - accuracy: 0.8634 - val_loss: 0.4098 - val_accuracy: 0.8516\n",
            "Epoch 5/30\n",
            "536/536 [==============================] - 4s 7ms/step - loss: 0.3800 - accuracy: 0.8684 - val_loss: 0.3986 - val_accuracy: 0.8474\n",
            "Epoch 6/30\n",
            "536/536 [==============================] - 4s 7ms/step - loss: 0.3655 - accuracy: 0.8694 - val_loss: 0.3873 - val_accuracy: 0.8535\n",
            "Epoch 7/30\n",
            "536/536 [==============================] - 4s 8ms/step - loss: 0.3551 - accuracy: 0.8670 - val_loss: 0.3880 - val_accuracy: 0.8455\n",
            "Epoch 8/30\n",
            "536/536 [==============================] - 4s 7ms/step - loss: 0.3482 - accuracy: 0.8675 - val_loss: 0.3805 - val_accuracy: 0.8512\n",
            "Epoch 9/30\n",
            "536/536 [==============================] - 4s 7ms/step - loss: 0.3479 - accuracy: 0.8683 - val_loss: 0.3814 - val_accuracy: 0.8444\n",
            "Epoch 10/30\n",
            "536/536 [==============================] - 5s 9ms/step - loss: 0.3424 - accuracy: 0.8692 - val_loss: 0.3727 - val_accuracy: 0.8535\n",
            "Epoch 11/30\n",
            "536/536 [==============================] - 4s 7ms/step - loss: 0.3398 - accuracy: 0.8698 - val_loss: 0.4070 - val_accuracy: 0.8296\n",
            "Epoch 12/30\n",
            "536/536 [==============================] - 4s 7ms/step - loss: 0.3394 - accuracy: 0.8655 - val_loss: 0.3728 - val_accuracy: 0.8508\n",
            "Epoch 13/30\n",
            "536/536 [==============================] - 5s 10ms/step - loss: 0.3318 - accuracy: 0.8726 - val_loss: 0.3822 - val_accuracy: 0.8432\n",
            "Epoch 14/30\n",
            "536/536 [==============================] - 5s 10ms/step - loss: 0.3299 - accuracy: 0.8712 - val_loss: 0.3839 - val_accuracy: 0.8436\n",
            "Epoch 15/30\n",
            "536/536 [==============================] - 6s 11ms/step - loss: 0.3358 - accuracy: 0.8696 - val_loss: 0.3963 - val_accuracy: 0.8372\n",
            "Epoch 16/30\n",
            "536/536 [==============================] - 6s 11ms/step - loss: 0.3331 - accuracy: 0.8701 - val_loss: 0.3894 - val_accuracy: 0.8364\n",
            "Epoch 17/30\n",
            "536/536 [==============================] - 6s 11ms/step - loss: 0.3313 - accuracy: 0.8692 - val_loss: 0.3889 - val_accuracy: 0.8383\n",
            "Epoch 18/30\n",
            "536/536 [==============================] - 6s 10ms/step - loss: 0.3324 - accuracy: 0.8681 - val_loss: 0.3807 - val_accuracy: 0.8398\n",
            "Epoch 19/30\n",
            "536/536 [==============================] - 4s 8ms/step - loss: 0.3312 - accuracy: 0.8671 - val_loss: 0.3948 - val_accuracy: 0.8349\n",
            "Epoch 20/30\n",
            "536/536 [==============================] - 6s 11ms/step - loss: 0.3335 - accuracy: 0.8688 - val_loss: 0.3831 - val_accuracy: 0.8425\n",
            "Epoch 21/30\n",
            "536/536 [==============================] - 5s 10ms/step - loss: 0.3310 - accuracy: 0.8668 - val_loss: 0.4014 - val_accuracy: 0.8311\n",
            "Epoch 22/30\n",
            "536/536 [==============================] - 6s 12ms/step - loss: 0.3268 - accuracy: 0.8720 - val_loss: 0.3790 - val_accuracy: 0.8440\n",
            "Epoch 23/30\n",
            "536/536 [==============================] - 6s 11ms/step - loss: 0.3259 - accuracy: 0.8705 - val_loss: 0.4078 - val_accuracy: 0.8338\n",
            "Epoch 24/30\n",
            "536/536 [==============================] - 6s 12ms/step - loss: 0.3274 - accuracy: 0.8711 - val_loss: 0.3780 - val_accuracy: 0.8436\n",
            "Epoch 25/30\n",
            "536/536 [==============================] - 5s 9ms/step - loss: 0.3313 - accuracy: 0.8705 - val_loss: 0.3736 - val_accuracy: 0.8459\n",
            "Epoch 26/30\n",
            "536/536 [==============================] - 5s 9ms/step - loss: 0.3289 - accuracy: 0.8681 - val_loss: 0.3975 - val_accuracy: 0.8338\n",
            "Epoch 27/30\n",
            "536/536 [==============================] - 5s 9ms/step - loss: 0.3335 - accuracy: 0.8718 - val_loss: 0.3899 - val_accuracy: 0.8360\n",
            "Epoch 28/30\n",
            "536/536 [==============================] - 5s 9ms/step - loss: 0.3296 - accuracy: 0.8692 - val_loss: 0.3887 - val_accuracy: 0.8372\n",
            "Epoch 29/30\n",
            "536/536 [==============================] - 6s 11ms/step - loss: 0.3265 - accuracy: 0.8699 - val_loss: 0.3901 - val_accuracy: 0.8364\n",
            "Epoch 30/30\n",
            "536/536 [==============================] - 4s 8ms/step - loss: 0.3301 - accuracy: 0.8690 - val_loss: 0.3966 - val_accuracy: 0.8319\n"
          ]
        }
      ]
    },
    {
      "cell_type": "code",
      "source": [
        "'''\n",
        "Early Stopping\n",
        "\n",
        "basically when given metrix dosent get better it stops training\n",
        "'''"
      ],
      "metadata": {
        "id": "OywKOP4-F8sq"
      },
      "execution_count": null,
      "outputs": []
    },
    {
      "cell_type": "code",
      "source": [
        "# list all data in history\n",
        "\n",
        "print(model_history.history.keys())"
      ],
      "metadata": {
        "colab": {
          "base_uri": "https://localhost:8080/"
        },
        "id": "Q9t_M4wICTTz",
        "outputId": "4e354696-cba4-4325-9a38-86a78972f955"
      },
      "execution_count": null,
      "outputs": [
        {
          "output_type": "stream",
          "name": "stdout",
          "text": [
            "dict_keys(['loss', 'accuracy', 'val_loss', 'val_accuracy'])\n"
          ]
        }
      ]
    },
    {
      "cell_type": "code",
      "source": [
        "\n",
        "# summarize history for accuracy\n",
        "plt.plot(model_history.history['accuracy'])\n",
        "plt.plot(model_history.history['val_accuracy'])\n",
        "plt.title('model accuracy')\n",
        "plt.ylabel('accuracy')\n",
        "plt.xlabel('epoch')\n",
        "plt.legend(['train', 'test'], loc='upper left')\n",
        "plt.show()"
      ],
      "metadata": {
        "colab": {
          "base_uri": "https://localhost:8080/",
          "height": 472
        },
        "id": "MMOyiwzgBlLY",
        "outputId": "6c82731b-4485-4fed-b0f3-204cd9011370"
      },
      "execution_count": null,
      "outputs": [
        {
          "output_type": "display_data",
          "data": {
            "text/plain": [
              "<Figure size 640x480 with 1 Axes>"
            ],
            "image/png": "[encoded data removed]"
          },
          "metadata": {}
        }
      ]
    },
    {
      "cell_type": "code",
      "source": [
        "# summarize history for loss\n",
        "plt.plot(model_history.history['loss'])\n",
        "plt.plot(model_history.history['val_loss'])\n",
        "plt.title('model loss')\n",
        "plt.ylabel('loss')\n",
        "plt.xlabel('epoch')\n",
        "plt.legend(['train', 'test'], loc='upper left')\n",
        "plt.show()"
      ],
      "metadata": {
        "colab": {
          "base_uri": "https://localhost:8080/",
          "height": 472
        },
        "id": "QH141RsQCEr0",
        "outputId": "606d5b9f-6841-412a-f721-13d8911cf78c"
      },
      "execution_count": null,
      "outputs": [
        {
          "output_type": "display_data",
          "data": {
            "text/plain": [
              "<Figure size 640x480 with 1 Axes>"
            ],
            "image/png": "[encoded data removed]"
          },
          "metadata": {}
        }
      ]
    },
    {
      "cell_type": "code",
      "source": [
        "# Part 3 - Making the predictions and evaluating the model\n",
        "\n",
        "# Predicting the Test set results\n",
        "y_pred = classifier.predict(X_test)\n",
        "y_pred = (y_pred > 0.5)"
      ],
      "metadata": {
        "id": "OYqCIIkDCd8S",
        "colab": {
          "base_uri": "https://localhost:8080/"
        },
        "outputId": "c878fc3a-0edd-44e3-d224-7ef913d0dc55"
      },
      "execution_count": null,
      "outputs": [
        {
          "output_type": "stream",
          "name": "stdout",
          "text": [
            "63/63 [==============================] - 0s 2ms/step\n"
          ]
        }
      ]
    },
    {
      "cell_type": "code",
      "source": [
        "# Making the Confusion Matrix\n",
        "from sklearn.metrics import confusion_matrix\n",
        "cm = confusion_matrix(y_test, y_pred)\n",
        "cm"
      ],
      "metadata": {
        "colab": {
          "base_uri": "https://localhost:8080/"
        },
        "id": "cm3EeOGTCi3-",
        "outputId": "18291efe-1171-43db-8789-1f0f6c52edcb"
      },
      "execution_count": null,
      "outputs": [
        {
          "output_type": "execute_result",
          "data": {
            "text/plain": [
              "array([[1582,   13],\n",
              "       [ 309,   96]])"
            ]
          },
          "metadata": {},
          "execution_count": 53
        }
      ]
    },
    {
      "cell_type": "code",
      "source": [
        "# Calculate the Accuracy\n",
        "from sklearn.metrics import accuracy_score\n",
        "score=accuracy_score(y_pred,y_test)"
      ],
      "metadata": {
        "id": "FgfRKzzOClmP"
      },
      "execution_count": null,
      "outputs": []
    },
    {
      "cell_type": "code",
      "source": [
        "score"
      ],
      "metadata": {
        "colab": {
          "base_uri": "https://localhost:8080/"
        },
        "id": "a_C5EETrCpSj",
        "outputId": "c16c5829-a90b-4734-f630-df2caa96ac1f"
      },
      "execution_count": null,
      "outputs": [
        {
          "output_type": "execute_result",
          "data": {
            "text/plain": [
              "0.839"
            ]
          },
          "metadata": {},
          "execution_count": 55
        }
      ]
    },
    {
      "cell_type": "markdown",
      "source": [
        "Black Box Model v/s White Box Model\n",
        "\n",
        "Random forrest,ANN,XgBoost-->Black Box Model<br>\n",
        "Decision Tree,Linear reg--> White Box Model\n",
        "\n",
        "Black models are hard to observe what is happening within the model itslef as there is alot happening while white box model"
      ],
      "metadata": {
        "id": "VdXqWtmWKde8"
      }
    },
    {
      "cell_type": "code",
      "source": [],
      "metadata": {
        "id": "UTvHAjYWCqWx"
      },
      "execution_count": null,
      "outputs": []
    }
  ]
}